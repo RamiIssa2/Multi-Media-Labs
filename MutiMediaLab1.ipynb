{
  "nbformat": 4,
  "nbformat_minor": 0,
  "metadata": {
    "colab": {
      "provenance": [],
      "collapsed_sections": [
        "Ut2DhPKeUULE",
        "C1kEpTxCUmTm",
        "qidSLgKCUqeJ",
        "qZniAAn7aD0y",
        "oydnaRTCHGAm",
        "CJvSEz-JIa40",
        "MJ5tc_bIabry",
        "tQi6Cp7TdENK",
        "nRDXW9iEUmyY",
        "2VVbWaidVhIv"
      ],
      "authorship_tag": "ABX9TyO4IuhNEGkVE6kAEgVeXaL+",
      "include_colab_link": true
    },
    "kernelspec": {
      "name": "python3",
      "display_name": "Python 3"
    },
    "language_info": {
      "name": "python"
    }
  },
  "cells": [
    {
      "cell_type": "markdown",
      "metadata": {
        "id": "view-in-github",
        "colab_type": "text"
      },
      "source": [
        "<a href=\"https://colab.research.google.com/github/RamiIssa2/Multi-Media-Labs/blob/main/MutiMediaLab1.ipynb\" target=\"_parent\"><img src=\"https://colab.research.google.com/assets/colab-badge.svg\" alt=\"Open In Colab\"/></a>"
      ]
    },
    {
      "cell_type": "markdown",
      "source": [
        "# **Variables**"
      ],
      "metadata": {
        "id": "Ut2DhPKeUULE"
      }
    },
    {
      "cell_type": "code",
      "source": [
        "a = 3\n",
        "\n",
        "print(a)"
      ],
      "metadata": {
        "id": "zDOFn-Q-W0H8"
      },
      "execution_count": null,
      "outputs": []
    },
    {
      "cell_type": "markdown",
      "source": [
        "# **Strings**"
      ],
      "metadata": {
        "id": "C1kEpTxCUmTm"
      }
    },
    {
      "cell_type": "code",
      "source": [
        "fn = \"ahmad\"\n",
        "ln = \"mohamad\"\n",
        "\n",
        "print (fn, ln)"
      ],
      "metadata": {
        "id": "yNA4zoKrWdfH"
      },
      "execution_count": null,
      "outputs": []
    },
    {
      "cell_type": "markdown",
      "source": [
        "# **Lists**"
      ],
      "metadata": {
        "id": "qidSLgKCUqeJ"
      }
    },
    {
      "cell_type": "code",
      "source": [
        "names = [\"Rami\", \"Sami\", \"Maram\"]\n",
        "\n",
        "for name in names:\n",
        "  print(name)\n",
        "\n",
        "print()\n",
        "\n",
        "for i in range(len(names)):\n",
        "  print(names[i])"
      ],
      "metadata": {
        "id": "reNeXnkhOuN6"
      },
      "execution_count": null,
      "outputs": []
    },
    {
      "cell_type": "code",
      "source": [
        "#define a list\n",
        "bikes = ['trek', 'redline', 'giant']\n",
        "\n",
        "#access element\n",
        "first_bike = bikes[0]\n",
        "last_bike = bikes[-1]\n",
        "#last_bike = bikes[2]\n",
        "print(first_bike)\n",
        "print(last_bike)"
      ],
      "metadata": {
        "id": "84juCCkqGpmu"
      },
      "execution_count": null,
      "outputs": []
    },
    {
      "cell_type": "code",
      "source": [
        "#Making numerical lists\n",
        "x = range(7)\n",
        "for n in x:\n",
        "  print(n)\n",
        "\n",
        "squares = []\n",
        "print(\"squares\")\n",
        "for x in range(1, 11):\n",
        "  squares.append(x**2)\n",
        "print(squares)"
      ],
      "metadata": {
        "id": "FS6nCDzuZDLs"
      },
      "execution_count": null,
      "outputs": []
    },
    {
      "cell_type": "code",
      "source": [
        "#Slicing a list\n",
        "finishers = [\"sam\" ,\"ada\", \"bea\"]\n",
        "first_two = finishers[:2]\n",
        "print(first_two)\n",
        "element = finishers[1:3]\n",
        "print(element)"
      ],
      "metadata": {
        "id": "DpmQ_i0WPclR"
      },
      "execution_count": null,
      "outputs": []
    },
    {
      "cell_type": "markdown",
      "source": [
        "# **If Statements**"
      ],
      "metadata": {
        "id": "qZniAAn7aD0y"
      }
    },
    {
      "cell_type": "code",
      "source": [
        "age = 15\n",
        "if age < 4:\n",
        "  ticket_price = 0\n",
        "elif age < 18:\n",
        "  ticket_price = 10\n",
        "else:\n",
        "  ticket_price = 15\n",
        "\n",
        "print(ticket_price)"
      ],
      "metadata": {
        "id": "qLrCQjwHFRcM"
      },
      "execution_count": null,
      "outputs": []
    },
    {
      "cell_type": "code",
      "source": [
        "bikes = ['trek', 'redline', 'giant']\n",
        "\n",
        "if \"trek\" in bikes:\n",
        "  print(True)\n",
        "if \"star\" not in bikes:\n",
        "  print(True)"
      ],
      "metadata": {
        "id": "AvK8P7HaFwLw"
      },
      "execution_count": null,
      "outputs": []
    },
    {
      "cell_type": "markdown",
      "source": [],
      "metadata": {
        "id": "uSP-kRgZHEkL"
      }
    },
    {
      "cell_type": "markdown",
      "source": [
        "# **Dictionaries**"
      ],
      "metadata": {
        "id": "oydnaRTCHGAm"
      }
    },
    {
      "cell_type": "code",
      "source": [
        "#empty\n",
        "alien = {}\n",
        "\n",
        "#with intial values\n",
        "alien = {'color':' green', 'points': 5}\n",
        "\n",
        "#Adding a new key value pair\n",
        "alien['x_position'] = 0\n",
        "\n",
        "#Looping through all keys\n",
        "fav_numbers = {'eric': 17, 'ever': 4}\n",
        "for name in fav_numbers.keys():\n",
        "  print(name + ' loves a number')\n",
        "\n",
        "#Looping through all the values\n",
        "fav_numbers = {'eric': 17, 'ever': 4}\n",
        "for number in fav_numbers.values():\n",
        "  print(str(number) +  ' is a favorite')"
      ],
      "metadata": {
        "id": "uY20TrJoHN7j"
      },
      "execution_count": null,
      "outputs": []
    },
    {
      "cell_type": "markdown",
      "source": [
        "# **Functions**"
      ],
      "metadata": {
        "id": "CJvSEz-JIa40"
      }
    },
    {
      "cell_type": "code",
      "source": [
        "def make_pizza(topping='bacon'):\n",
        "  \"\"\"Make a single topping pizza.\"\"\"\n",
        "  print(\"Have a \" + topping + \" pizza!\")\n",
        "make_pizza()\n",
        "make_pizza('pepperoni')\n",
        "\n",
        "def add_numbers (x, y):\n",
        "  \"\"\"Add two numbers and return the sum.\"\"\"\n",
        "  return x + y\n",
        "sum = add_numbers (3, 5)\n",
        "print(sum)"
      ],
      "metadata": {
        "id": "_Ad3BtNDIjC8"
      },
      "execution_count": null,
      "outputs": []
    },
    {
      "cell_type": "markdown",
      "source": [
        "# **Exercise 1:**"
      ],
      "metadata": {
        "id": "MJ5tc_bIabry"
      }
    },
    {
      "cell_type": "code",
      "source": [
        "def sort_with_type(l, type=\"ascending\"):\n",
        "  for i in range(len(l)):\n",
        "    for j in range(len(l) - 1):\n",
        "        if type == \"ascending\":\n",
        "          if (l[j] > l[j+1]):\n",
        "            temp = l[j]\n",
        "            l[j] = l[j+1]\n",
        "            l[j+1] = temp\n",
        "        elif type == \"descending\":\n",
        "          if (l[j] < l[j+1]):\n",
        "            temp = l[j]\n",
        "            l[j] = l[j+1]\n",
        "            l[j+1] = temp\n",
        "        else:\n",
        "          print('error: type not right')\n",
        "\n",
        "l = [10, 5, 9, 11, 1, 7, 3, 23, 45, 8]\n",
        "print('Original: ' + str(l))\n",
        "\n",
        "sort_with_type(l, \"ascending\")\n",
        "print('Ascending: ' + str(l))\n",
        "\n",
        "sort_with_type(l, \"descending\")\n",
        "print('descending: ' + str(l))\n"
      ],
      "metadata": {
        "colab": {
          "base_uri": "https://localhost:8080/"
        },
        "id": "mYTJxxoUagQL",
        "outputId": "77838ce9-6e93-4b8a-a82e-94a8e01b2851"
      },
      "execution_count": 19,
      "outputs": [
        {
          "output_type": "stream",
          "name": "stdout",
          "text": [
            "Original: [10, 5, 9, 11, 1, 7, 3, 23, 45, 8]\n",
            "Ascending: [1, 3, 5, 7, 8, 9, 10, 11, 23, 45]\n",
            "descending: [45, 23, 11, 10, 9, 8, 7, 5, 3, 1]\n"
          ]
        }
      ]
    },
    {
      "cell_type": "markdown",
      "source": [
        "# **Numpy Basics**"
      ],
      "metadata": {
        "id": "tQi6Cp7TdENK"
      }
    },
    {
      "cell_type": "code",
      "source": [
        "import numpy as np\n",
        "#create NumPy array from Python lists\n",
        "a = np.array ([[1, 2, 3, 4], [5, 6, 7, 8], [9, 10, 11, 12]])\n",
        "print(\"a =\\n\", a, '\\n')\n",
        "\n",
        "#The elements are all of the same type,\n",
        "#referred to as the array dtype (data type).\n",
        "print(\"dtype = \", a.dtype, '\\n')\n",
        "\n",
        "#We can access the elements in the array using square brackets.\n",
        "print(\"a[0] = \", a[0], '\\n')\n",
        "print(\"a[2,1] = \", a[2, 1], '\\n')\n",
        "\n",
        "#ways to create basic array\n",
        "b = np.array([1, 2, 3])\n",
        "arr_zeros = np.zeros((2, 3))\n",
        "arr_ones = np.ones(5)\n",
        "arr_range = np.arange(2, 15)\n",
        "print(b, '\\n')\n",
        "print(arr_zeros, '\\n')\n",
        "print(arr_ones, '\\n')\n",
        "print(arr_range, '\\n')"
      ],
      "metadata": {
        "id": "HkJ3ufzvdIn8"
      },
      "execution_count": null,
      "outputs": []
    },
    {
      "cell_type": "code",
      "source": [
        "#You can index and slice NumPy arrays in the same ways you can slice Python lists.\n",
        "data = np.arange(0, 5, 0.5)\n",
        "print(\"data = \", data)\n",
        "print(\"data[0: 2] = \", data[0: 2])\n",
        "print(\"data[3:] = \", data[3:])\n",
        "print(\"data[-2] = \", data[-2])\n",
        "\n",
        "#basic operations\n",
        "ones = np.ones(data.size)\n",
        "res1 = data - ones\n",
        "res2 = data * ones\n",
        "res3 = data / ones\n",
        "print(\"data = \", data)\n",
        "print(\"ones = \", ones)\n",
        "print(\"res1 = \", res1)\n",
        "print(\"res2 = \", res2)\n",
        "print(\"res3 = \", res3)\n",
        "\n",
        "#useful array operations\n",
        "mx1 = data.max()\n",
        "mx2 = np.amax(data)\n",
        "mn = data.min()\n",
        "sm = data.sum()\n",
        "print(\"data.max() = \", mx1)\n",
        "print(\"np.amax(data) = \", mx2)\n",
        "print(\"data.min() = \", mn)\n",
        "print(\"data.sum()\", sm)\n",
        "\n",
        "#round to the nearest even number\n",
        "print(\"round = \", data.round())\n",
        "\n",
        "# cast to a specified type\n",
        "data_int = data.astype('uint8')\n",
        "print(\"cast to int: \", data_int)\n",
        "\n",
        "#count non zero elements\n",
        "nonzero_count = np.count_nonzero([[0, 1, 7, 0, 0], [3, 0, 0, 2, 19]])\n",
        "print(nonzero_count)"
      ],
      "metadata": {
        "id": "7X3VsPP6RE2n"
      },
      "execution_count": null,
      "outputs": []
    },
    {
      "cell_type": "markdown",
      "source": [
        "# **Matplotlib Basics**"
      ],
      "metadata": {
        "id": "nRDXW9iEUmyY"
      }
    },
    {
      "cell_type": "code",
      "source": [
        "import matplotlib.pyplot as plt\n",
        "\n",
        "#plot numbers\n",
        "plt.plot([1 , 2 , 7 , 0])\n",
        "plt.show()"
      ],
      "metadata": {
        "id": "wtWqlQeEez3A"
      },
      "execution_count": null,
      "outputs": []
    },
    {
      "cell_type": "code",
      "source": [
        "import matplotlib.pyplot as plt\n",
        "import numpy as np\n",
        "\n",
        "# plot y versus x\n",
        "x = [1, 2, 3, 4]\n",
        "y = [1, 4, 9, 16]\n",
        "plt.plot(x, y)\n",
        "plt.show()\n",
        "\n",
        "#draw points\n",
        "plt.scatter(x, y, c=\"r\", s=10)\n",
        "plt.show()\n",
        "\n",
        "t = np.arange(0., 5., 0.2)\n",
        "# red dashes, blue squares and green triangles\n",
        "plt.plot(t, t, 'r--', t, t**2, 'bs', t, t**3, 'g^')\n",
        "plt.show()\n",
        "\n",
        "#add x and y labels and title\n",
        "plt.plot(x,y, c=\"g\")\n",
        "plt.title(\"matplotlib\", fontsize=19)\n",
        "plt.scatter(x,y, c=\"r\", s=10)\n",
        "plt.ylabel(\"Y Label\")\n",
        "plt.xlabel(\"X Label\")\n",
        "plt.show()"
      ],
      "metadata": {
        "id": "I9a0Q4fmg9zr"
      },
      "execution_count": null,
      "outputs": []
    },
    {
      "cell_type": "markdown",
      "source": [
        "# **Exercise 2:**"
      ],
      "metadata": {
        "id": "2VVbWaidVhIv"
      }
    },
    {
      "cell_type": "code",
      "source": [
        "import matplotlib.pyplot as plt\n",
        "import numpy as np\n",
        "\n",
        "data = np.array([3, 3, 3, 4, 5, 5, 7, 7, 8, 8, 8, 10])\n",
        "data_range = np.arange(3, 11, 1)\n",
        "\n",
        "ones = np.ones(data.size)\n",
        "data_frequencies = []\n",
        "for i in range(3, 11):\n",
        "  data_frequencies.append(np.count_nonzero(data == i))\n",
        "\n",
        "plt.bar(data_range, data_frequencies)\n",
        " \n",
        "plt.xlabel(\"Value\")\n",
        "plt.ylabel(\"Frequency\")\n",
        "plt.title(\"Frequencies\")\n",
        "plt.show()"
      ],
      "metadata": {
        "id": "4BDUAugxVqE3"
      },
      "execution_count": null,
      "outputs": []
    }
  ]
}